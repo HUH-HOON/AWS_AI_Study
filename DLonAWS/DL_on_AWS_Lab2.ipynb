{
 "cells": [
  {
   "cell_type": "code",
   "execution_count": 1,
   "metadata": {
    "ExecuteTime": {
     "end_time": "2018-10-16T07:20:48.714184Z",
     "start_time": "2018-10-16T07:20:46.516369Z"
    }
   },
   "outputs": [
    {
     "name": "stdout",
     "output_type": "stream",
     "text": [
      "1.2.0\n"
     ]
    }
   ],
   "source": [
    "import os, sys\n",
    "import argparse\n",
    "import logging\n",
    "import mxnet as mx\n",
    "import random\n",
    "from mxnet.io import DataBatch, DataIter\n",
    "import numpy as np\n",
    "import time\n",
    "import subprocess\n",
    "import errno\n",
    "print(mx.__version__)"
   ]
  },
  {
   "cell_type": "code",
   "execution_count": 2,
   "metadata": {
    "ExecuteTime": {
     "end_time": "2018-10-16T07:20:59.793249Z",
     "start_time": "2018-10-16T07:20:59.788346Z"
    }
   },
   "outputs": [],
   "source": [
    "def add_data_args(parser):\n",
    "    data = parser.add_argument_group('Data', 'the input images')\n",
    "    data.add_argument('--data-train', type=str, help='the training data')\n",
    "    data.add_argument('--data-val', type=str, help='the validation data')\n",
    "    data.add_argument('--rgb-mean', type=str, default='123.68,116.779,103.939',\n",
    "                      help='a tuple of size 3 for the mean rgb')\n",
    "    data.add_argument('--pad-size', type=int, default=0,\n",
    "                      help='padding the input image')\n",
    "    data.add_argument('--image-shape', type=str,\n",
    "                      help='the image shape feed into the network, e.g. (3,224,224)')\n",
    "    data.add_argument('--num-classes', type=int, help='the number of classes')\n",
    "    data.add_argument('--num-examples', type=int, help='the number of training examples')\n",
    "    data.add_argument('--data-nthreads', type=int, default=4,\n",
    "                      help='number of threads for data decoding')\n",
    "    return data"
   ]
  },
  {
   "cell_type": "code",
   "execution_count": 8,
   "metadata": {
    "ExecuteTime": {
     "end_time": "2018-07-13T05:31:21.847329Z",
     "start_time": "2018-07-13T05:31:21.837158Z"
    }
   },
   "outputs": [],
   "source": [
    "def get_rec_iter(args, kv=None):\n",
    "    image_shape = tuple([int(l) for l in args.image_shape.split(',')])\n",
    "    dtype = np.float32\n",
    "\n",
    "    if kv:\n",
    "        (rank, nworker) = (kv.rank, kv.num_workers)\n",
    "    else:\n",
    "        (rank, nworker) = (0, 1)\n",
    "\n",
    "    rgb_mean = [float(i) for i in args.rgb_mean.split(',')]\n",
    "\n",
    "    train = mx.io.ImageRecordIter(\n",
    "        path_imgrec         = args.data_train,\n",
    "        label_width         = 1,\n",
    "        mean_r              = rgb_mean[0],\n",
    "        mean_g              = rgb_mean[1],\n",
    "        mean_b              = rgb_mean[2],\n",
    "        data_name           = 'data',\n",
    "        label_name          = 'softmax_label',\n",
    "        data_shape          = image_shape,\n",
    "        batch_size          = args.batch_size,\n",
    "        pad                 = args.pad_size,\n",
    "        fill_value          = 127,\n",
    "        preprocess_threads  = args.data_nthreads,\n",
    "        shuffle             = True,\n",
    "        num_parts           = nworker,\n",
    "        part_index          = rank)\n",
    "    if args.data_val is None:\n",
    "        return (train, None)\n",
    "    val = mx.io.ImageRecordIter(\n",
    "        path_imgrec         = args.data_val,\n",
    "        label_width         = 1,\n",
    "        mean_r              = rgb_mean[0],\n",
    "        mean_g              = rgb_mean[1],\n",
    "        mean_b              = rgb_mean[2],\n",
    "        data_name           = 'data',\n",
    "        label_name          = 'softmax_label',\n",
    "        batch_size          = args.batch_size,\n",
    "        data_shape          = image_shape,\n",
    "        preprocess_threads  = args.data_nthreads,\n",
    "        num_parts           = nworker,\n",
    "        part_index          = rank)\n",
    "    return (train, val)"
   ]
  },
  {
   "cell_type": "code",
   "execution_count": 9,
   "metadata": {
    "ExecuteTime": {
     "end_time": "2018-07-13T05:31:22.559489Z",
     "start_time": "2018-07-13T05:31:22.556355Z"
    }
   },
   "outputs": [],
   "source": [
    "def _save_model(args, rank=0):\n",
    "    if args.model_prefix is None:\n",
    "        return None\n",
    "\n",
    "    return mx.callback.do_checkpoint(args.model_prefix if rank == 0 else \"%s-%d\" % (\n",
    "        args.model_prefix, rank))"
   ]
  },
  {
   "cell_type": "code",
   "execution_count": 10,
   "metadata": {
    "ExecuteTime": {
     "end_time": "2018-07-13T05:31:23.786293Z",
     "start_time": "2018-07-13T05:31:23.773449Z"
    }
   },
   "outputs": [],
   "source": [
    "def add_fit_args(parser):\n",
    "    \"\"\"\n",
    "    parser : argparse.ArgumentParser\n",
    "    return a parser added with args required by fit\n",
    "    \"\"\"\n",
    "    train = parser.add_argument_group('Training', 'model training')\n",
    "    train.add_argument('--network', type=str,\n",
    "                       help='the neural network to use')\n",
    "    train.add_argument('--num-layers', type=int,\n",
    "                       help='number of layers in the neural network, required by some networks such as resnet')\n",
    "    train.add_argument('--gpus', type=str,\n",
    "                       help='list of gpus to run, e.g. 0 or 0,2,5. empty means using cpu')\n",
    "    train.add_argument('--kv-store', type=str, default='device',\n",
    "                       help='key-value store type')\n",
    "    train.add_argument('--num-epochs', type=int, default=100,\n",
    "                       help='max num of epochs')\n",
    "    train.add_argument('--lr', type=float, default=0.1,\n",
    "                       help='initial learning rate')\n",
    "    train.add_argument('--optimizer', type=str, default='sgd',\n",
    "                       help='the optimizer type')\n",
    "    train.add_argument('--mom', type=float, default=0.9,\n",
    "                       help='momentum for sgd')\n",
    "    train.add_argument('--wd', type=float, default=0.0001,\n",
    "                       help='weight decay for sgd')\n",
    "    train.add_argument('--batch-size', type=int, default=128,\n",
    "                       help='the batch size')\n",
    "    train.add_argument('--disp-batches', type=int, default=40,\n",
    "                       help='show progress for every n batches')\n",
    "    train.add_argument('--model-prefix', type=str,\n",
    "                       help='model prefix')\n",
    "    parser.add_argument('--monitor', dest='monitor', type=int, default=0,\n",
    "                        help='log network parameters every N iters if larger than 0')\n",
    "    return train\n",
    "\n",
    "def fit(args, network, data_loader, **kwargs):\n",
    "    \"\"\"\n",
    "    train a model\n",
    "    args : argparse returns\n",
    "    network : the symbol definition of the neural network\n",
    "    data_loader : function that returns the train and val data iterators\n",
    "    \"\"\"\n",
    "    # kvstore\n",
    "    kv = mx.kvstore.create(args.kv_store)\n",
    "    print(\"args kvstore is %s\"%(kv))\n",
    "\n",
    "    # logging\n",
    "    head = '%(asctime)-15s Node[' + str(kv.rank) + '] %(message)s'\n",
    "    logging.basicConfig(level=logging.DEBUG, format=head)\n",
    "    logging.info('start with arguments %s', args)\n",
    "\n",
    "    # data iterators\n",
    "    (train, val) = data_loader(args, kv)\n",
    "\n",
    "\n",
    "\n",
    "    # save model\n",
    "    checkpoint = _save_model(args, kv.rank)\n",
    "\n",
    "    # devices for training\n",
    "    devs = mx.gpu(0)\n",
    "\n",
    "    # create model\n",
    "    model = mx.mod.Module(\n",
    "        context       = devs,\n",
    "        symbol        = network\n",
    "    )\n",
    "\n",
    "    optimizer_params = {\n",
    "            'learning_rate': args.lr,\n",
    "            'momentum' : args.mom,\n",
    "            'wd' : args.wd}\n",
    "\n",
    "    monitor = mx.mon.Monitor(args.monitor, pattern=\".*\") if args.monitor > 0 else None\n",
    "\n",
    "    if args.network == 'alexnet':\n",
    "        # AlexNet will not converge using Xavier\n",
    "        initializer = mx.init.Normal()\n",
    "    else:\n",
    "        initializer = mx.init.Xavier(\n",
    "            rnd_type='gaussian', factor_type=\"in\", magnitude=2)\n",
    "\n",
    "    # evaluation metrices\n",
    "    eval_metrics = ['accuracy']\n",
    "\n",
    "    # callbacks that run after each batch\n",
    "    batch_end_callbacks = [mx.callback.Speedometer(args.batch_size, args.disp_batches)]\n",
    "\n",
    "    # run\n",
    "    model.fit(train,\n",
    "        num_epoch          = args.num_epochs,\n",
    "        eval_data          = val,\n",
    "        eval_metric        = eval_metrics,\n",
    "        kvstore            = kv,\n",
    "        optimizer          = args.optimizer,\n",
    "        optimizer_params   = optimizer_params,\n",
    "        initializer        = initializer,\n",
    "        batch_end_callback = batch_end_callbacks,\n",
    "        epoch_end_callback = checkpoint,\n",
    "        allow_missing      = True,\n",
    "        monitor            = monitor)"
   ]
  },
  {
   "cell_type": "code",
   "execution_count": 11,
   "metadata": {
    "ExecuteTime": {
     "end_time": "2018-07-13T05:31:36.358506Z",
     "start_time": "2018-07-13T05:31:36.202118Z"
    }
   },
   "outputs": [
    {
     "name": "stderr",
     "output_type": "stream",
     "text": [
      "2018-07-13 05:31:36,224 - start with arguments Namespace(batch_size=128, data_nthreads=4, data_train='./cifar10_train.rec', data_val='./cifar10_val.rec', disp_batches=40, gpus=None, image_shape='3,28,28', kv_store='device', lr=0.01, model_prefix='model', mom=0.9, monitor=0, network='resnet', num_classes=10, num_epochs=5, num_examples=50000, num_layers=50, optimizer='sgd', pad_size=4, rgb_mean='123.68,116.779,103.939', wd=0.0001)\n"
     ]
    },
    {
     "name": "stdout",
     "output_type": "stream",
     "text": [
      "resnet\n",
      "<Symbol softmax>\n",
      "args kvstore is <mxnet.kvstore.KVStore object at 0x7fc280e28b70>\n"
     ]
    },
    {
     "ename": "MXNetError",
     "evalue": "[05:31:36] src/io/input_split_base.cc:173: Check failed: files_.size() != 0U (0 vs. 0) Cannot find any files that matches the URI pattern ./cifar10_train.rec\n\nStack trace returned 10 entries:\n[bt] (0) /home/ubuntu/anaconda3/envs/mxnet_p36/lib/python3.6/site-packages/mxnet/libmxnet.so(+0x1c05f2) [0x7fc25bc3f5f2]\n[bt] (1) /home/ubuntu/anaconda3/envs/mxnet_p36/lib/python3.6/site-packages/mxnet/libmxnet.so(+0x1c0bd8) [0x7fc25bc3fbd8]\n[bt] (2) /home/ubuntu/anaconda3/envs/mxnet_p36/lib/python3.6/site-packages/mxnet/libmxnet.so(+0x2de7a0f) [0x7fc25e866a0f]\n[bt] (3) /home/ubuntu/anaconda3/envs/mxnet_p36/lib/python3.6/site-packages/mxnet/libmxnet.so(+0x2de7ec7) [0x7fc25e866ec7]\n[bt] (4) /home/ubuntu/anaconda3/envs/mxnet_p36/lib/python3.6/site-packages/mxnet/libmxnet.so(+0x2daaf79) [0x7fc25e829f79]\n[bt] (5) /home/ubuntu/anaconda3/envs/mxnet_p36/lib/python3.6/site-packages/mxnet/libmxnet.so(+0x2dab52d) [0x7fc25e82a52d]\n[bt] (6) /home/ubuntu/anaconda3/envs/mxnet_p36/lib/python3.6/site-packages/mxnet/libmxnet.so(+0x2871fe5) [0x7fc25e2f0fe5]\n[bt] (7) /home/ubuntu/anaconda3/envs/mxnet_p36/lib/python3.6/site-packages/mxnet/libmxnet.so(+0x287277c) [0x7fc25e2f177c]\n[bt] (8) /home/ubuntu/anaconda3/envs/mxnet_p36/lib/python3.6/site-packages/mxnet/libmxnet.so(MXDataIterCreateIter+0x1d0) [0x7fc25e198f30]\n[bt] (9) /home/ubuntu/anaconda3/envs/mxnet_p36/lib/python3.6/lib-dynload/../../libffi.so.6(ffi_call_unix64+0x4c) [0x7fc295769ec0]\n\n",
     "output_type": "error",
     "traceback": [
      "\u001b[0;31m---------------------------------------------------------------------------\u001b[0m",
      "\u001b[0;31mMXNetError\u001b[0m                                Traceback (most recent call last)",
      "\u001b[0;32m<ipython-input-11-8b3289af1b73>\u001b[0m in \u001b[0;36m<module>\u001b[0;34m()\u001b[0m\n\u001b[1;32m     57\u001b[0m     \u001b[0mcheckpoint\u001b[0m \u001b[0;34m=\u001b[0m \u001b[0mmx\u001b[0m\u001b[0;34m.\u001b[0m\u001b[0mcallback\u001b[0m\u001b[0;34m.\u001b[0m\u001b[0mdo_checkpoint\u001b[0m\u001b[0;34m(\u001b[0m\u001b[0mmodel_prefix\u001b[0m\u001b[0;34m)\u001b[0m\u001b[0;34m\u001b[0m\u001b[0m\n\u001b[1;32m     58\u001b[0m     \u001b[0;31m# train\u001b[0m\u001b[0;34m\u001b[0m\u001b[0;34m\u001b[0m\u001b[0m\n\u001b[0;32m---> 59\u001b[0;31m     \u001b[0mfit\u001b[0m\u001b[0;34m(\u001b[0m\u001b[0margs\u001b[0m\u001b[0;34m,\u001b[0m \u001b[0msym\u001b[0m\u001b[0;34m,\u001b[0m \u001b[0mget_rec_iter\u001b[0m\u001b[0;34m,\u001b[0m \u001b[0mepoch_end_callback\u001b[0m\u001b[0;34m=\u001b[0m\u001b[0mcheckpoint\u001b[0m\u001b[0;34m)\u001b[0m\u001b[0;34m\u001b[0m\u001b[0m\n\u001b[0m",
      "\u001b[0;32m<ipython-input-10-01c5e7dff472>\u001b[0m in \u001b[0;36mfit\u001b[0;34m(args, network, data_loader, **kwargs)\u001b[0m\n\u001b[1;32m     50\u001b[0m \u001b[0;34m\u001b[0m\u001b[0m\n\u001b[1;32m     51\u001b[0m     \u001b[0;31m# data iterators\u001b[0m\u001b[0;34m\u001b[0m\u001b[0;34m\u001b[0m\u001b[0m\n\u001b[0;32m---> 52\u001b[0;31m     \u001b[0;34m(\u001b[0m\u001b[0mtrain\u001b[0m\u001b[0;34m,\u001b[0m \u001b[0mval\u001b[0m\u001b[0;34m)\u001b[0m \u001b[0;34m=\u001b[0m \u001b[0mdata_loader\u001b[0m\u001b[0;34m(\u001b[0m\u001b[0margs\u001b[0m\u001b[0;34m,\u001b[0m \u001b[0mkv\u001b[0m\u001b[0;34m)\u001b[0m\u001b[0;34m\u001b[0m\u001b[0m\n\u001b[0m\u001b[1;32m     53\u001b[0m \u001b[0;34m\u001b[0m\u001b[0m\n\u001b[1;32m     54\u001b[0m \u001b[0;34m\u001b[0m\u001b[0m\n",
      "\u001b[0;32m<ipython-input-8-7c7855a56e2a>\u001b[0m in \u001b[0;36mget_rec_iter\u001b[0;34m(args, kv)\u001b[0m\n\u001b[1;32m     25\u001b[0m         \u001b[0mshuffle\u001b[0m             \u001b[0;34m=\u001b[0m \u001b[0;32mTrue\u001b[0m\u001b[0;34m,\u001b[0m\u001b[0;34m\u001b[0m\u001b[0m\n\u001b[1;32m     26\u001b[0m         \u001b[0mnum_parts\u001b[0m           \u001b[0;34m=\u001b[0m \u001b[0mnworker\u001b[0m\u001b[0;34m,\u001b[0m\u001b[0;34m\u001b[0m\u001b[0m\n\u001b[0;32m---> 27\u001b[0;31m         part_index          = rank)\n\u001b[0m\u001b[1;32m     28\u001b[0m     \u001b[0;32mif\u001b[0m \u001b[0margs\u001b[0m\u001b[0;34m.\u001b[0m\u001b[0mdata_val\u001b[0m \u001b[0;32mis\u001b[0m \u001b[0;32mNone\u001b[0m\u001b[0;34m:\u001b[0m\u001b[0;34m\u001b[0m\u001b[0m\n\u001b[1;32m     29\u001b[0m         \u001b[0;32mreturn\u001b[0m \u001b[0;34m(\u001b[0m\u001b[0mtrain\u001b[0m\u001b[0;34m,\u001b[0m \u001b[0;32mNone\u001b[0m\u001b[0;34m)\u001b[0m\u001b[0;34m\u001b[0m\u001b[0m\n",
      "\u001b[0;32m~/anaconda3/envs/mxnet_p36/lib/python3.6/site-packages/mxnet/io.py\u001b[0m in \u001b[0;36mcreator\u001b[0;34m(*args, **kwargs)\u001b[0m\n\u001b[1;32m    934\u001b[0m             \u001b[0mmx_uint\u001b[0m\u001b[0;34m(\u001b[0m\u001b[0mlen\u001b[0m\u001b[0;34m(\u001b[0m\u001b[0mparam_keys\u001b[0m\u001b[0;34m)\u001b[0m\u001b[0;34m)\u001b[0m\u001b[0;34m,\u001b[0m\u001b[0;34m\u001b[0m\u001b[0m\n\u001b[1;32m    935\u001b[0m             \u001b[0mparam_keys\u001b[0m\u001b[0;34m,\u001b[0m \u001b[0mparam_vals\u001b[0m\u001b[0;34m,\u001b[0m\u001b[0;34m\u001b[0m\u001b[0m\n\u001b[0;32m--> 936\u001b[0;31m             ctypes.byref(iter_handle)))\n\u001b[0m\u001b[1;32m    937\u001b[0m \u001b[0;34m\u001b[0m\u001b[0m\n\u001b[1;32m    938\u001b[0m         \u001b[0;32mif\u001b[0m \u001b[0mlen\u001b[0m\u001b[0;34m(\u001b[0m\u001b[0margs\u001b[0m\u001b[0;34m)\u001b[0m\u001b[0;34m:\u001b[0m\u001b[0;34m\u001b[0m\u001b[0m\n",
      "\u001b[0;32m~/anaconda3/envs/mxnet_p36/lib/python3.6/site-packages/mxnet/base.py\u001b[0m in \u001b[0;36mcheck_call\u001b[0;34m(ret)\u001b[0m\n\u001b[1;32m    147\u001b[0m     \"\"\"\n\u001b[1;32m    148\u001b[0m     \u001b[0;32mif\u001b[0m \u001b[0mret\u001b[0m \u001b[0;34m!=\u001b[0m \u001b[0;36m0\u001b[0m\u001b[0;34m:\u001b[0m\u001b[0;34m\u001b[0m\u001b[0m\n\u001b[0;32m--> 149\u001b[0;31m         \u001b[0;32mraise\u001b[0m \u001b[0mMXNetError\u001b[0m\u001b[0;34m(\u001b[0m\u001b[0mpy_str\u001b[0m\u001b[0;34m(\u001b[0m\u001b[0m_LIB\u001b[0m\u001b[0;34m.\u001b[0m\u001b[0mMXGetLastError\u001b[0m\u001b[0;34m(\u001b[0m\u001b[0;34m)\u001b[0m\u001b[0;34m)\u001b[0m\u001b[0;34m)\u001b[0m\u001b[0;34m\u001b[0m\u001b[0m\n\u001b[0m\u001b[1;32m    150\u001b[0m \u001b[0;34m\u001b[0m\u001b[0m\n\u001b[1;32m    151\u001b[0m \u001b[0;34m\u001b[0m\u001b[0m\n",
      "\u001b[0;31mMXNetError\u001b[0m: [05:31:36] src/io/input_split_base.cc:173: Check failed: files_.size() != 0U (0 vs. 0) Cannot find any files that matches the URI pattern ./cifar10_train.rec\n\nStack trace returned 10 entries:\n[bt] (0) /home/ubuntu/anaconda3/envs/mxnet_p36/lib/python3.6/site-packages/mxnet/libmxnet.so(+0x1c05f2) [0x7fc25bc3f5f2]\n[bt] (1) /home/ubuntu/anaconda3/envs/mxnet_p36/lib/python3.6/site-packages/mxnet/libmxnet.so(+0x1c0bd8) [0x7fc25bc3fbd8]\n[bt] (2) /home/ubuntu/anaconda3/envs/mxnet_p36/lib/python3.6/site-packages/mxnet/libmxnet.so(+0x2de7a0f) [0x7fc25e866a0f]\n[bt] (3) /home/ubuntu/anaconda3/envs/mxnet_p36/lib/python3.6/site-packages/mxnet/libmxnet.so(+0x2de7ec7) [0x7fc25e866ec7]\n[bt] (4) /home/ubuntu/anaconda3/envs/mxnet_p36/lib/python3.6/site-packages/mxnet/libmxnet.so(+0x2daaf79) [0x7fc25e829f79]\n[bt] (5) /home/ubuntu/anaconda3/envs/mxnet_p36/lib/python3.6/site-packages/mxnet/libmxnet.so(+0x2dab52d) [0x7fc25e82a52d]\n[bt] (6) /home/ubuntu/anaconda3/envs/mxnet_p36/lib/python3.6/site-packages/mxnet/libmxnet.so(+0x2871fe5) [0x7fc25e2f0fe5]\n[bt] (7) /home/ubuntu/anaconda3/envs/mxnet_p36/lib/python3.6/site-packages/mxnet/libmxnet.so(+0x287277c) [0x7fc25e2f177c]\n[bt] (8) /home/ubuntu/anaconda3/envs/mxnet_p36/lib/python3.6/site-packages/mxnet/libmxnet.so(MXDataIterCreateIter+0x1d0) [0x7fc25e198f30]\n[bt] (9) /home/ubuntu/anaconda3/envs/mxnet_p36/lib/python3.6/lib-dynload/../../libffi.so.6(ffi_call_unix64+0x4c) [0x7fc295769ec0]\n\n"
     ]
    }
   ],
   "source": [
    "logger = logging.getLogger()\n",
    "\n",
    "if logger.handlers:\n",
    "    logger.handlers[0].close()\n",
    "    logger.handlers = []\n",
    "\n",
    "fhandler = logging.FileHandler(filename='lab2.log', mode='w')\n",
    "console = logging.StreamHandler()\n",
    "\n",
    "# tell the handler to use this format\n",
    "formatter = logging.Formatter('%(asctime)s - %(message)s')\n",
    "fhandler.setFormatter(formatter)\n",
    "console.setFormatter(formatter)\n",
    "# add the handler to the root logger\n",
    "logger.addHandler(fhandler)\n",
    "logger.addHandler(console)\n",
    "console.setLevel(logging.DEBUG)\n",
    "logger.setLevel(logging.DEBUG)\n",
    "\n",
    "if __name__ == '__main__':\n",
    "    # download data\n",
    "    (train_fname, val_fname) = ('./cifar10_train.rec','./cifar10_val.rec')\n",
    "\n",
    "    # parse args\n",
    "    parser = argparse.ArgumentParser(description=\"train cifar10\",\n",
    "                                     formatter_class=argparse.ArgumentDefaultsHelpFormatter)\n",
    "    add_fit_args(parser)\n",
    "    add_data_args(parser)\n",
    "    parser.set_defaults(\n",
    "        # network\n",
    "        network        = 'resnet', #Network Name\n",
    "        num_layers     = 50, #Number of layers in the network\n",
    "\n",
    "        # data\n",
    "        data_train     = train_fname, # Training dataset\n",
    "        data_val       = val_fname, # Validation data\n",
    "        num_classes    = 10, # number of classes\n",
    "        num_examples  = 50000,\n",
    "        image_shape    = '3,28,28',\n",
    "        pad_size       = 4,\n",
    "\n",
    "        # train\n",
    "        batch_size     = 128,\n",
    "        num_epochs     = 5,\n",
    "        lr             = .01\n",
    "    )\n",
    "    args = parser.parse_args('--model-prefix model'.split())\n",
    "\n",
    "    # load network\n",
    "    print(args.network)\n",
    "    from importlib import import_module\n",
    "    net = import_module('symbols.'+args.network)\n",
    "    sym = net.get_symbol(**vars(args))\n",
    "    print(sym)\n",
    "\n",
    "    model_prefix = 'mx_resnet'\n",
    "    checkpoint = mx.callback.do_checkpoint(model_prefix)\n",
    "    # train\n",
    "    fit(args, sym, get_rec_iter, epoch_end_callback=checkpoint)"
   ]
  },
  {
   "cell_type": "code",
   "execution_count": null,
   "metadata": {},
   "outputs": [],
   "source": []
  }
 ],
 "metadata": {
  "kernelspec": {
   "display_name": "Environment (conda_mxnet_p36)",
   "language": "python",
   "name": "conda_mxnet_p36"
  },
  "language_info": {
   "codemirror_mode": {
    "name": "ipython",
    "version": 3
   },
   "file_extension": ".py",
   "mimetype": "text/x-python",
   "name": "python",
   "nbconvert_exporter": "python",
   "pygments_lexer": "ipython3",
   "version": "3.6.5"
  }
 },
 "nbformat": 4,
 "nbformat_minor": 2
}
